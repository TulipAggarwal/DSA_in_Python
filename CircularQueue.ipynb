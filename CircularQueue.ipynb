{
  "nbformat": 4,
  "nbformat_minor": 0,
  "metadata": {
    "colab": {
      "name": "CircularQueue.ipynb",
      "provenance": [],
      "authorship_tag": "ABX9TyNrhRZSdPzuSwcvULeaDJ3r",
      "include_colab_link": true
    },
    "kernelspec": {
      "name": "python3",
      "display_name": "Python 3"
    },
    "language_info": {
      "name": "python"
    }
  },
  "cells": [
    {
      "cell_type": "markdown",
      "metadata": {
        "id": "view-in-github",
        "colab_type": "text"
      },
      "source": [
        "<a href=\"https://colab.research.google.com/github/TulipAggarwal/Data-Structures-and-Algorithms/blob/main/CircularQueue.ipynb\" target=\"_parent\"><img src=\"https://colab.research.google.com/assets/colab-badge.svg\" alt=\"Open In Colab\"/></a>"
      ]
    },
    {
      "cell_type": "markdown",
      "source": [
        "Task - 1:\n",
        "> Enqueue, Dequeue and displaying a circular queue.\n",
        "\n"
      ],
      "metadata": {
        "id": "eKvBnPOwtwp4"
      }
    },
    {
      "cell_type": "code",
      "execution_count": 1,
      "metadata": {
        "id": "wVuHBQKjtovb"
      },
      "outputs": [],
      "source": [
        "#Circular queue\n",
        "class circularqueue:\n",
        "  def __init__ (self, k:int): #k is the maximum size of the queue\n",
        "    self.head = 0\n",
        "    self.tail = 0\n",
        "    self.size = 0\n",
        "    self.k = k\n",
        "    self.q = [None] * k\n",
        "  def enqueue(self, value:int) -> bool:\n",
        "    if self.full():\n",
        "      return False\n",
        "    self.q[self.tail] = value\n",
        "    self.size += 1\n",
        "#this will ensure if the queue is full then it will go back to the beginning again\n",
        "    self.tail = (self.tail+1)%self.k \n",
        "  def dequeue(self) -> bool:\n",
        "    if self.empty():\n",
        "      return False\n",
        "    self.size -= 1\n",
        "    #self.q[self.head] = value   #this is not needed here because the size is going to keep check if the size is zero or what\n",
        "    self.head = (self.head+1)%self.k\n",
        "  def front(self) -> int:\n",
        "    if self.empty():\n",
        "      return -1\n",
        "    else:\n",
        "      return self.q[self.head]\n",
        "  def rear(self) -> int:\n",
        "    if self.empty():\n",
        "      return -1\n",
        "    else:\n",
        "      return self.q[self.tail-1] #Because tail is going to get to the next index number so we minus one to get the previous value \n",
        "  def empty(self) -> bool:\n",
        "    if self.size == 0:\n",
        "      return True\n",
        "    else:\n",
        "      return False\n",
        "  def full(self) -> bool:\n",
        "    if self.size == self.k:\n",
        "      return True\n",
        "    else:\n",
        "      return False\n"
      ]
    },
    {
      "cell_type": "markdown",
      "source": [
        "The concept used: \n",
        "\n",
        "Example we enqueue 1,2 in the queue then it is said that the head remains as such and tail will represent the index where we can next enqueue:\n",
        "\n",
        "1.   So initially tail will be at index 0 after enqueuing 1\n",
        "2.   the tail will go to index 1 and after enqueueing 2 the tail will go to index 2 and so on...\n",
        "\n",
        "and to check if the queue is full we check the size of the array, when size = max then it is full and if size  = 0 then the queue is empty.\n",
        "\n",
        "\n"
      ],
      "metadata": {
        "id": "4F8SkppVvYjS"
      }
    }
  ]
}