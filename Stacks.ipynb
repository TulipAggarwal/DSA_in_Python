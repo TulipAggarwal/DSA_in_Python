{
  "nbformat": 4,
  "nbformat_minor": 0,
  "metadata": {
    "colab": {
      "name": "Stacks.ipynb",
      "provenance": [],
      "authorship_tag": "ABX9TyM5hW98mkaHHbfIEvi9PNLa",
      "include_colab_link": true
    },
    "kernelspec": {
      "name": "python3",
      "display_name": "Python 3"
    },
    "language_info": {
      "name": "python"
    }
  },
  "cells": [
    {
      "cell_type": "markdown",
      "metadata": {
        "id": "view-in-github",
        "colab_type": "text"
      },
      "source": [
        "<a href=\"https://colab.research.google.com/github/TulipAggarwal/Data-Structures-and-Algorithms/blob/main/Stacks.ipynb\" target=\"_parent\"><img src=\"https://colab.research.google.com/assets/colab-badge.svg\" alt=\"Open In Colab\"/></a>"
      ]
    },
    {
      "cell_type": "markdown",
      "source": [
        "Stacks are:\n",
        "\n",
        "\n",
        "*   Linear data structure\n",
        "*   Follows LIFO\n",
        "*   Insertion and removal of the element has done at one end\n",
        "*   push - inserting element, pop - removing element\n",
        "\n",
        "\n",
        "\n"
      ],
      "metadata": {
        "id": "Iv3StN40yazf"
      }
    },
    {
      "cell_type": "markdown",
      "source": [
        "Various functions associated with stack:\n",
        "\n",
        "*   push(x) - It is used to insert the element 'x' at the top of the stack\n",
        "*   pop() - It is used to remove the topmost/ last element of a stack\n",
        "*   size() - Gives the size/length of a stack\n",
        "*   top() - gives reference of the last element present in stack\n",
        "*   empty() - Returns true for an empty stack\n",
        "\n"
      ],
      "metadata": {
        "id": "GQt1a3Gwy4Yy"
      }
    },
    {
      "cell_type": "markdown",
      "source": [
        "Task-1:\n",
        "\n",
        "> Implementing stacks in python using lists.\n",
        "\n",
        "\n",
        "\n"
      ],
      "metadata": {
        "id": "4g90_5lszenf"
      }
    },
    {
      "cell_type": "code",
      "execution_count": null,
      "metadata": {
        "id": "B13b7po0yJjO"
      },
      "outputs": [],
      "source": [
        "#Implementing stacks using lists and poping the element\n",
        "stack=[]\n",
        "stack.append(\"Tulip\")\n",
        "stack.append(\"Aggarwal\")\n",
        "print(stack)\n",
        "print(stack.pop())  #poping the element which was ended last in order\n",
        "print(stack) #printing the poped stack"
      ]
    },
    {
      "cell_type": "markdown",
      "source": [
        "Task-2:\n",
        "\n",
        "> Implementing stacks in python using collection.deque\n",
        "\n"
      ],
      "metadata": {
        "id": "SrhhDB0h03U3"
      }
    },
    {
      "cell_type": "code",
      "source": [
        "#Implementing deque in stacks\n",
        "from collections import deque  #it is preffered more than pop() because the function are faster with deque()\n",
        "stack = deque()\n",
        "stack.append(\"Tulip\")\n",
        "stack.append(\"Aggarwal\")\n",
        "print(stack)\n",
        "print(stack.pop())\n",
        "print(stack)"
      ],
      "metadata": {
        "id": "V5cvs68R093l"
      },
      "execution_count": null,
      "outputs": []
    },
    {
      "cell_type": "markdown",
      "source": [
        "Task-3:\n",
        "> Implementing stacks in python using queue.\n",
        "\n",
        "Functions available in queue mode:\n",
        "*   get() - It is used to remove the element from the queue\n",
        "*   maxsize() - Used to put the maximum number of items allowed in queue.\n",
        "*   empty() - It returns True, when queue is empty else False\n",
        "*   full() - When the queue is full it returns True\n",
        "*   put(x) - It is used to insert x in the queue\n",
        "*   qsize() - Gives the size of the queue"
      ],
      "metadata": {
        "id": "KERWtKYV7La3"
      }
    },
    {
      "cell_type": "code",
      "source": [
        "#Implementing stacks using queue module\n",
        "from queue import LifoQueue\n",
        "stack = LifoQueue(maxsize=2) #Creating a stack variable\n",
        "stack.put(\"Tulip\")\n",
        "stack.put(\"Aggarwal\")\n",
        "print(stack.qsize())\n",
        "print(stack.full())\n",
        "print(stack.get())\n",
        "print(stack)"
      ],
      "metadata": {
        "id": "rGSe45W27XVQ"
      },
      "execution_count": null,
      "outputs": []
    }
  ]
}