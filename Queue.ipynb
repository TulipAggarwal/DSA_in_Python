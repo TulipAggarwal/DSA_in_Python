{
  "nbformat": 4,
  "nbformat_minor": 0,
  "metadata": {
    "colab": {
      "name": "Queue",
      "provenance": [],
      "authorship_tag": "ABX9TyOZ+kUvS6pJnUfZMMchpG7F",
      "include_colab_link": true
    },
    "kernelspec": {
      "name": "python3",
      "display_name": "Python 3"
    },
    "language_info": {
      "name": "python"
    }
  },
  "cells": [
    {
      "cell_type": "markdown",
      "metadata": {
        "id": "view-in-github",
        "colab_type": "text"
      },
      "source": [
        "<a href=\"https://colab.research.google.com/github/TulipAggarwal/Data-Structures-and-Algorithms/blob/main/Queue.ipynb\" target=\"_parent\"><img src=\"https://colab.research.google.com/assets/colab-badge.svg\" alt=\"Open In Colab\"/></a>"
      ]
    },
    {
      "cell_type": "markdown",
      "source": [
        "Task - 1:\n",
        "\n",
        "> Linear queue."
      ],
      "metadata": {
        "id": "1RA8-vNjE6SO"
      }
    },
    {
      "cell_type": "code",
      "execution_count": 8,
      "metadata": {
        "colab": {
          "base_uri": "https://localhost:8080/"
        },
        "id": "-_M9txAPEg_2",
        "outputId": "3b784234-37ca-43a5-9f34-8d3333cd9800"
      },
      "outputs": [
        {
          "output_type": "stream",
          "name": "stdout",
          "text": [
            "[5, 9, 2, 4]\n",
            "After removing an element\n",
            "[9, 2, 4]\n"
          ]
        }
      ],
      "source": [
        "#implementing enqueue, dequeue and displaying in a queue\n",
        "class queue:\n",
        "  def __init__(self):\n",
        "    self.queue = []\n",
        "  def enqueue(self,item):\n",
        "    self.queue.append(item)\n",
        "  def dequeue(self):\n",
        "    if len(self.queue) < 1:\n",
        "      return None\n",
        "    return self.queue.pop(0)  #follows FIFO\n",
        "  def display(self):\n",
        "    print(self.queue)\n",
        "  def size(self):\n",
        "    return len(self.queue)\n",
        "q = queue()\n",
        "q.enqueue(5)\n",
        "q.enqueue(9)\n",
        "q.enqueue(2)\n",
        "q.enqueue(4)\n",
        "q.display()\n",
        "q.dequeue()\n",
        "print(\"After removing an element\") \n",
        "q.display()"
      ]
    }
  ]
}