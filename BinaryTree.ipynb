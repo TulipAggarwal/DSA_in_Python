{
  "nbformat": 4,
  "nbformat_minor": 0,
  "metadata": {
    "colab": {
      "name": "BinaryTree.ipynb",
      "provenance": [],
      "authorship_tag": "ABX9TyNAM5QVma2jOuQejf0QyZpR",
      "include_colab_link": true
    },
    "kernelspec": {
      "name": "python3",
      "display_name": "Python 3"
    },
    "language_info": {
      "name": "python"
    }
  },
  "cells": [
    {
      "cell_type": "markdown",
      "metadata": {
        "id": "view-in-github",
        "colab_type": "text"
      },
      "source": [
        "<a href=\"https://colab.research.google.com/github/TulipAggarwal/Data-Structures-and-Algorithms/blob/main/BinaryTree.ipynb\" target=\"_parent\"><img src=\"https://colab.research.google.com/assets/colab-badge.svg\" alt=\"Open In Colab\"/></a>"
      ]
    },
    {
      "cell_type": "markdown",
      "source": [
        "Binary tree:\n",
        "*   Hierarchical Data Stucture \n",
        "*   Top most element is know as root of the ree\n",
        "*   Every node has 2 children in binary tree"
      ],
      "metadata": {
        "id": "8czOst8Sd4ho"
      }
    },
    {
      "cell_type": "markdown",
      "source": [
        "Task - 1:\n",
        "\n",
        "> * Preorder(root) : print-left-right\n",
        "> * Inorder(root) : left-print-right\n",
        "> * Postorder(root) : left-right-print\n",
        "\n"
      ],
      "metadata": {
        "id": "wZFkWMJCeFpj"
      }
    },
    {
      "cell_type": "code",
      "execution_count": 7,
      "metadata": {
        "colab": {
          "base_uri": "https://localhost:8080/"
        },
        "id": "Erw581CBdwcz",
        "outputId": "cd63bfc8-228d-4704-b71c-d3c96d0f4383"
      },
      "outputs": [
        {
          "output_type": "stream",
          "name": "stdout",
          "text": [
            "Preorder Traversal: \n",
            "1\n",
            "2\n",
            "5\n",
            "3\n",
            "Postorder Traversal: \n",
            "5\n",
            "2\n",
            "3\n",
            "1\n",
            "Inorder Traversal: \n",
            "5\n",
            "2\n",
            "1\n",
            "3\n"
          ]
        }
      ],
      "source": [
        "class node:\n",
        "  def __init__ (self,key):\n",
        "    self.left = None\n",
        "    self.right = None\n",
        "    self.val = key\n",
        "\n",
        "  def traPreorder (self):\n",
        "    print (self.val)\n",
        "    if self.left:\n",
        "      self.left.traPreorder()\n",
        "    if self.right:\n",
        "      self.right.traPreorder()\n",
        "  \n",
        "  def traInorder (self):\n",
        "    if self.left:\n",
        "      self.left.traInorder()\n",
        "    print(self.val)\n",
        "    if self.right:\n",
        "      self.right.traInorder()\n",
        "    \n",
        "  def traPostorder(self):\n",
        "      if self.left:\n",
        "        self.left.traPostorder()\n",
        "      if self.right:\n",
        "        self.right.traPostorder()\n",
        "      print(self.val)\n",
        "\n",
        "root = node (1)\n",
        "root.left = node(2)\n",
        "root.right = node(3)\n",
        "root.left.left = node (5)\n",
        "\n",
        "print(\"Preorder Traversal: \")\n",
        "root.traPreorder()\n",
        "print(\"Postorder Traversal: \")\n",
        "root.traPostorder()\n",
        "print(\"Inorder Traversal: \")\n",
        "root.traInorder()"
      ]
    }
  ]
}