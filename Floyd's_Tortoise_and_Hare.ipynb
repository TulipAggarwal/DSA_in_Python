{
  "nbformat": 4,
  "nbformat_minor": 0,
  "metadata": {
    "colab": {
      "name": "Floyd's Tortoise and Hare.ipynb",
      "provenance": [],
      "authorship_tag": "ABX9TyPmFfjPkfGa3PaKZnTxnLGo",
      "include_colab_link": true
    },
    "kernelspec": {
      "name": "python3",
      "display_name": "Python 3"
    },
    "language_info": {
      "name": "python"
    }
  },
  "cells": [
    {
      "cell_type": "markdown",
      "metadata": {
        "id": "view-in-github",
        "colab_type": "text"
      },
      "source": [
        "<a href=\"https://colab.research.google.com/github/TulipAggarwal/Data-Structures-and-Algorithms/blob/main/Floyd's_Tortoise_and_Hare.ipynb\" target=\"_parent\"><img src=\"https://colab.research.google.com/assets/colab-badge.svg\" alt=\"Open In Colab\"/></a>"
      ]
    },
    {
      "cell_type": "markdown",
      "source": [
        "Floyd's tortoise and hare:\n",
        "\n",
        "Working: Slow pointer each time moves \n",
        "forward by 1 and fast pointer each time moves forward by 2\n",
        "\n",
        "Example: Consider a linked list 1->2->3->4->2 (Back at cycling to 2 at node 1)\n",
        "therefore, then according to this algorithm:\n",
        "* s f\n",
        "* 1 1\n",
        "* 2 3\n",
        "* 3 2\n",
        "* 4 4\n",
        "\n",
        "Therefore the slow pointer is going to catch the fast pointer at some point in the cycle."
      ],
      "metadata": {
        "id": "1JGJJJlIu9ym"
      }
    },
    {
      "cell_type": "code",
      "execution_count": null,
      "metadata": {
        "id": "am36GB9_sL_r"
      },
      "outputs": [],
      "source": [
        "def hashCycle(self,head: Optional[ListNode]) -> bool:\n",
        "  slow, fast = head,head\n",
        "  while fast and fast.next:\n",
        "    slow = slow.next\n",
        "    fast = fast.next.next\n",
        "    if slow == fast:\n",
        "      return True\n",
        "  return False\n",
        "hashCycle ([2,3,5,3])"
      ]
    }
  ]
}