{
  "nbformat": 4,
  "nbformat_minor": 0,
  "metadata": {
    "colab": {
      "name": "Singly linked list.ipynb",
      "provenance": [],
      "authorship_tag": "ABX9TyNEJcMPLpk2uzTBryj0FHYF",
      "include_colab_link": true
    },
    "kernelspec": {
      "name": "python3",
      "display_name": "Python 3"
    },
    "language_info": {
      "name": "python"
    }
  },
  "cells": [
    {
      "cell_type": "markdown",
      "metadata": {
        "id": "view-in-github",
        "colab_type": "text"
      },
      "source": [
        "<a href=\"https://colab.research.google.com/github/TulipAggarwal/Data-Structures-and-Algorithms/blob/main/Singly_linked_list.ipynb\" target=\"_parent\"><img src=\"https://colab.research.google.com/assets/colab-badge.svg\" alt=\"Open In Colab\"/></a>"
      ]
    },
    {
      "cell_type": "markdown",
      "source": [
        "Linked list:\n",
        "*  It is more efficient for performing the operations as compared to list.\n",
        "*   Elements are stored randomly whereas in list at contiguous memory.\n",
        "*   Accessing the elements in linked list will be slower as compared to list.\n"
      ],
      "metadata": {
        "id": "SF1uTwlZRKkA"
      }
    },
    {
      "cell_type": "markdown",
      "source": [
        "Task - 1:\n",
        "\n",
        "> Singly Linked List\n",
        "\n",
        "Note: A singly linked list the traversal is done only in one direction.\n",
        "\n"
      ],
      "metadata": {
        "id": "ks8fVzZXRutB"
      }
    },
    {
      "cell_type": "code",
      "execution_count": 43,
      "metadata": {
        "colab": {
          "base_uri": "https://localhost:8080/"
        },
        "id": "dtr4cnYUQ6VV",
        "outputId": "1c814ead-15cd-40de-fb0a-1a0c4dea5259"
      },
      "outputs": [
        {
          "output_type": "stream",
          "name": "stdout",
          "text": [
            "5\n",
            "3\n",
            "13\n",
            "9\n"
          ]
        }
      ],
      "source": [
        "#operations on singly linked list like : Insertion- (Beginning, At specific node, End), Deletion(Beginning, At specific node, End) and Traversal\n",
        "#creating a node in singly linked list\n",
        "class node:\n",
        "  def __init__ (self,data):\n",
        "    self.data = data\n",
        "    self.next = None\n",
        "\n",
        "#creating a singly linked list\n",
        "class linkedlist:\n",
        "  def __init__ (self):\n",
        "    self.head = None\n",
        "    #print(\"Created SLL\") #just to check if the class linkedlist is working or not\n",
        "\n",
        "#insert at beginning\n",
        "  def insert_at_begin (self,data):\n",
        "    val = node(data)\n",
        "    val.next = self.head\n",
        "    self.head = val\n",
        "\n",
        "#insert at specific node\n",
        "  def insert_at_spnode (self,data,pos):\n",
        "    val = node(data)\n",
        "    a=self.head\n",
        "    for i in range(1,pos):\n",
        "      a=a.next\n",
        "    val.next=a.next\n",
        "    a.next=val\n",
        "\n",
        "#insert at end\n",
        "  def insert_at_end (self,data):\n",
        "    val = node(data)\n",
        "    a = self.head\n",
        "    while (a.next) is not None:\n",
        "      a = a.next\n",
        "    a.next = val\n",
        "\n",
        "#deletion at begin\n",
        "  def del_at_begin (self):\n",
        "    a=self.head\n",
        "    self.head=a.next\n",
        "    a.next=None\n",
        "\n",
        "#deletion at specific node\n",
        "  def del_at_spnode (self,pos):\n",
        "    prev = self.head\n",
        "    a = self.head.next\n",
        "    for i in range(1,pos-1):\n",
        "      a = a.next\n",
        "      prev = prev.next\n",
        "    prev.next = a.next\n",
        "    a.next = None\n",
        "\n",
        "#deletion at end\n",
        "  def del_at_end (self):\n",
        "    prev = self.head\n",
        "    a = self.head.next\n",
        "    while (a.next) is not None:\n",
        "      a = a.next\n",
        "      prev=prev.next\n",
        "    prev.next = None\n",
        "\n",
        "#traversal in a linked list\n",
        "  def traversal (self):\n",
        "    if self.head is None:\n",
        "      print(\"The Linked List is empty\")\n",
        "    else:\n",
        "      a = self.head #creating a temporary variable so that the head value does not change\n",
        "      while a is not None:\n",
        "        print(a.data)\n",
        "        a = a.next\n",
        "\n",
        "n1 = node (5)\n",
        "sll = linkedlist()  \n",
        "sll.head = n1\n",
        "n2 = node (10)\n",
        "n1.next = n2\n",
        "n3 = node (3)\n",
        "n2.next = n3\n",
        "n4 = node (9)\n",
        "n3.next = n4\n",
        "\n",
        "sll.insert_at_begin(2) #calling function and inserting 2 at the first node of the already existing singly linked list\n",
        "sll.insert_at_end(7)\n",
        "sll.insert_at_spnode(13,4)\n",
        "\n",
        "sll.del_at_begin() #after this we will notice that the value 2 will be removed from the output\n",
        "sll.del_at_end() #after this we will notice that the value 7 will be removed from the output\n",
        "sll.del_at_spnode(1)\n",
        "\n",
        "sll.traversal() "
      ]
    }
  ]
}