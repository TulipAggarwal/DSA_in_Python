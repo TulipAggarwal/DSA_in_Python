{
  "nbformat": 4,
  "nbformat_minor": 0,
  "metadata": {
    "colab": {
      "name": "Arrays.ipynb",
      "provenance": [],
      "collapsed_sections": [],
      "authorship_tag": "ABX9TyPQKTh9TFZeo6O8VaRN+mT3",
      "include_colab_link": true
    },
    "kernelspec": {
      "name": "python3",
      "display_name": "Python 3"
    },
    "language_info": {
      "name": "python"
    }
  },
  "cells": [
    {
      "cell_type": "markdown",
      "metadata": {
        "id": "view-in-github",
        "colab_type": "text"
      },
      "source": [
        "<a href=\"https://colab.research.google.com/github/TulipAggarwal/Data-Structures-and-Algorithms/blob/main/Arrays.ipynb\" target=\"_parent\"><img src=\"https://colab.research.google.com/assets/colab-badge.svg\" alt=\"Open In Colab\"/></a>"
      ]
    },
    {
      "cell_type": "markdown",
      "source": [
        "An array is a:\n",
        "\n",
        "*   Linear data structure\n",
        "*   with continous memory locations\n",
        "*   and allows us to access elementary randomly\n",
        "\n"
      ],
      "metadata": {
        "id": "A5dw3EiP-xmH"
      }
    },
    {
      "cell_type": "markdown",
      "source": [
        "Task -1:\n",
        "\n",
        "> Creating a 1-D array and inserting numbers to the maximum size provided ultil the end. accessing the numbers inserted and then displaying them.\n",
        "\n"
      ],
      "metadata": {
        "id": "AjxXS3xZCwoG"
      }
    },
    {
      "cell_type": "code",
      "execution_count": null,
      "metadata": {
        "id": "6LZmFo2P5kbX"
      },
      "outputs": [],
      "source": [
        "num = int(input(print(\"Enter the number of elements you want in the array: \\t\")))\n",
        "arr = []\n",
        "print(\"Enter the elements: \")\n",
        "for i in range(num):\n",
        "  element=input()\n",
        "  arr.append(element)\n",
        "print(\"The array is: \")\n",
        "for i in range(num):\n",
        "  print(arr[i])"
      ]
    },
    {
      "cell_type": "markdown",
      "source": [
        "Task-2:\n",
        "\n",
        "> Creating a 2-D array and inserting numbers to the maximum size provided ultil the end. accessing the numbers inserted and then displaying them.\n",
        "\n"
      ],
      "metadata": {
        "id": "lDRQYNLsE6ZZ"
      }
    },
    {
      "cell_type": "code",
      "source": [
        "row_num = int(input(\"Enter the number of rows: \"))\n",
        "col_num = int(input(\"Enter the number of columns: \"))\n",
        "arr = [[0 for col in range(col_num)] for row in range(row_num)]\n",
        "for row in range(row_num):\n",
        "  for col in range(col_num):\n",
        "    arr[row][col] = row*col\n",
        "print(arr)"
      ],
      "metadata": {
        "id": "0YeIEjt2FJlu"
      },
      "execution_count": null,
      "outputs": []
    },
    {
      "cell_type": "markdown",
      "source": [
        "Task-3:\n",
        "\n",
        "> Implement search, sort and delete operation on array of integers.\n",
        "\n"
      ],
      "metadata": {
        "id": "lMNbOleJHl8u"
      }
    },
    {
      "cell_type": "code",
      "source": [
        "#Searching elements inside of integer array\n",
        "num = int(input(print(\"Enter the number of elements you want in the array: \\t\")))\n",
        "arr = []\n",
        "print(\"Enter the elements: \")\n",
        "for i in range(num):\n",
        "  element=input()\n",
        "  arr.append(element)\n",
        "val = int(input(\"Enter the value you want to search: \"))\n",
        "for i in range(num):\n",
        "  if arr[i] == val:\n",
        "    print(i)"
      ],
      "metadata": {
        "id": "xRp2iX_mNlfO"
      },
      "execution_count": null,
      "outputs": []
    },
    {
      "cell_type": "code",
      "source": [
        "#Sorting elements inside of integer array\n",
        "num = int(input(print(\"Enter the number of elements you want in the array: \\t\")))\n",
        "arr = []\n",
        "print(\"Enter the elements: \")\n",
        "for i in range(num):\n",
        "  element=input()\n",
        "  arr.append(element)\n",
        "\n",
        "for i in range(num):\n",
        "  for j in range(i+1,num):\n",
        "    if (arr[i]>arr[j]):\n",
        "      temp=arr[i]\n",
        "      arr[i]=arr[j]\n",
        "      arr[j]=temp\n",
        "\n",
        "print(\"The sorted array is: \")\n",
        "for i in range(num):\n",
        "  print(arr[i])"
      ],
      "metadata": {
        "id": "pMWV8cOeM0g-"
      },
      "execution_count": null,
      "outputs": []
    },
    {
      "cell_type": "code",
      "source": [
        "#Deleting elements inside of integer array\n",
        "num = int(input(print(\"Enter the number of elements you want in the array: \\t\")))\n",
        "arr = []\n",
        "print(\"Enter the elements: \")\n",
        "for i in range(num):\n",
        "  element=input()\n",
        "  arr.append(element)\n",
        "value = int(input(\"Enter the value you wish to delete: \"))\n",
        "if value in arr:\n",
        "  arr.delete(value)\n",
        "  print(\"The array is: \")\n",
        "  for i in range(num-1):\n",
        "    print(arr[i])"
      ],
      "metadata": {
        "id": "L5M78DzeK6IU"
      },
      "execution_count": null,
      "outputs": []
    }
  ]
}